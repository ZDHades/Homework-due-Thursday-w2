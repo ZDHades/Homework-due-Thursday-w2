{
 "cells": [
  {
   "cell_type": "markdown",
   "metadata": {},
   "source": [
    "1. Write a function that loops over all strings within the collection passed in, and changes all vowels to a dash.\n",
    "\n",
    "<strong>Example</strong>: [ \"Bob\", \"Vowel\", \"Hello\" ]\n",
    "<br>\n",
    "<strong>Output</strong>: [ \"B-b\", \"V-w-l\", \"H-ll-\" ]"
   ]
  },
  {
   "cell_type": "code",
   "execution_count": null,
   "metadata": {},
   "outputs": [],
   "source": [
    "vowels = [\"a\", \"e\", \"i\", \"o\", \"u\"]\n",
    "My_party = [\"Dragonite\", \"Snorlax\", \"Jolteon\", \"Gengar\", \"Alakazam\", \"Lapras\"]\n",
    "Hidden_party = []\n",
    "\n",
    "def Split(word): \n",
    "    return [ _ for _ in word]\n",
    "\n",
    "def Index_vowels(a_list):\n",
    "    for n, _ in enumerate(a_list):\n",
    "        if _.lower() in vowels:\n",
    "            a_list[n] = \"-\"\n",
    "    return a_list\n",
    "\n",
    "def list_to_string(a_list):\n",
    "    a_string = \"\"\n",
    "    for _ in a_list:\n",
    "        a_string += _\n",
    "    return a_string\n",
    "                      \n",
    "def Main(a_list):\n",
    "    for pokemon in a_list:\n",
    "        split = Split(pokemon)\n",
    "        letters = Index_vowels(split)\n",
    "        final_string = list_to_string(letters)\n",
    "        Hidden_party.append(final_string)\n",
    "    print(Hidden_party)\n",
    "\n",
    "Main(My_party)"
   ]
  },
  {
   "cell_type": "markdown",
   "metadata": {},
   "source": [
    "2. Write a program which will find all such numbers which are divisible by 7 but are not a multiple of 5, between 2000 and 3200 (both included). The numbers obtained should be printed in a comma-separated sequence on a single line."
   ]
  },
  {
   "cell_type": "code",
   "execution_count": null,
   "metadata": {},
   "outputs": [],
   "source": [
    "master_list = [_ for _ in range(1999,3201)]\n",
    "blank = []\n",
    "def multiple_7_but_not_5(a_list):\n",
    "    for _ in a_list:\n",
    "        if _ % 7 == 0 and _ % 5 != 0:\n",
    "            blank.append(_)\n",
    "    print(*blank, sep=', ')\n",
    "    \n",
    "multiple_7_but_not_5(master_list)"
   ]
  },
  {
   "cell_type": "markdown",
   "metadata": {},
   "source": [
    "3. Write a program that calculates the number of upper case letters and lower case letters in a sentence.\n",
    "\n",
    "<strong>Example</strong>: \"Hello world!\"\n",
    "<br>\n",
    "<strong>Output</strong>: <br>\n",
    "UPPER CASE 1\n",
    "<br>\n",
    "LOWER CASE 9"
   ]
  },
  {
   "cell_type": "code",
   "execution_count": null,
   "metadata": {},
   "outputs": [],
   "source": [
    "def count_case_type():\n",
    "    sentence = input(\"Enter a sentence that you want to evaluate: \")\n",
    "    upper = 0\n",
    "    lower = 0\n",
    "    for _ in sentence:\n",
    "        if (_.islower()):\n",
    "            lower += 1\n",
    "        if (_.isupper()):\n",
    "            upper += 1\n",
    "    print(f\"UPPER CASE: {upper}\")\n",
    "    print(f\"LOWER CASE: {lower}\")\n",
    "    \n",
    "count_case_type()"
   ]
  },
  {
   "cell_type": "markdown",
   "metadata": {},
   "source": [
    "4. Write a program that accepts a sentence and calculate the number of letters and digits.\n",
    "\n",
    "<strong>Example</strong>: \"hello world! 123\"\n",
    "<br>\n",
    "<strong>Output</strong>:<br>\n",
    "LETTERS 10<br>\n",
    "DIGITS 3"
   ]
  },
  {
   "cell_type": "code",
   "execution_count": null,
   "metadata": {},
   "outputs": [],
   "source": [
    "def count_char_type():\n",
    "    sentence = input(\"Enter a sentence that you want to evaluate: \")\n",
    "    letters = 0\n",
    "    digits = 0\n",
    "    for _ in sentence:\n",
    "        if (_.isalpha()):\n",
    "            letters += 1\n",
    "        if (_.isnumeric()):\n",
    "            digits += 1    \n",
    "    print(f\"LETTERS: {letters}\")\n",
    "    print(f\"DIGITS: {digits}\")\n",
    "\n",
    "count_char_type()"
   ]
  },
  {
   "cell_type": "markdown",
   "metadata": {},
   "source": [
    "5. Write a program that creates a pyramid of Xs\n",
    "\n",
    "<strong>Output</strong>:\n",
    "<br>\n",
    "&nbsp;&nbsp;&nbsp;&nbsp;&nbsp;&nbsp;&nbsp;&nbsp;X<br>\n",
    "&nbsp;&nbsp;&nbsp;&nbsp;&nbsp;&nbsp;XXX<br>\n",
    "&nbsp;&nbsp;&nbsp;&nbsp;XXXXX<br>\n",
    "&nbsp;&nbsp;XXXXXXX<br>\n",
    "XXXXXXXXX<br>"
   ]
  },
  {
   "cell_type": "code",
   "execution_count": null,
   "metadata": {},
   "outputs": [],
   "source": [
    "def pyramid_of_x():\n",
    "    spc = \" \"\n",
    "    x = \"X\"\n",
    "    while True:\n",
    "        try:\n",
    "            height  = int(input(\"Enter a number\"))\n",
    "        except ValueError:\n",
    "            print(\"Enter a number please\")\n",
    "            continue\n",
    "        else:\n",
    "            break\n",
    "    for _ in range(height):\n",
    "        print(f\"{ spc * (height - _ +1)} {x * (2*_+1)}\")\n",
    "        \n",
    "pyramid_of_x()"
   ]
  }
 ],
 "metadata": {
  "kernelspec": {
   "display_name": "Python 3",
   "language": "python",
   "name": "python3"
  },
  "language_info": {
   "codemirror_mode": {
    "name": "ipython",
    "version": 3
   },
   "file_extension": ".py",
   "mimetype": "text/x-python",
   "name": "python",
   "nbconvert_exporter": "python",
   "pygments_lexer": "ipython3",
   "version": "3.8.3"
  }
 },
 "nbformat": 4,
 "nbformat_minor": 2
}
